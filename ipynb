from selenium import webdriver
from selenium.webdriver.common.by import By
from selenium.webdriver.support.ui import WebDriverWait
from selenium.webdriver.support import expected_conditions as EC
import json
from datetime import datetime
import os
import time


URL = "https://www.saucedemo.com/"
USERNAME = "standard_user"
PASSWORD = "secret_sauce"
OUTPUT_FILE = "purchase_history.json"
TIMEOUT = 10

def load_existing_data():
    if os.path.exists(OUTPUT_FILE):
        with open(OUTPUT_FILE, "r", encoding="utf-8") as f:
            try:
                return json.load(f)
            except json.JSONDecodeError:
                return []
    return []

def save_data(data):
    with open(OUTPUT_FILE, "w", encoding="utf-8") as f:
        json.dump(data, f, ensure_ascii=False, indent=2)

def setup_driver():
    options = webdriver.ChromeOptions()
    options.add_argument("--start-maximized")
    return webdriver.Chrome(options=options)

def login(driver):
    driver.get(URL)
    WebDriverWait(driver, TIMEOUT).until(
        EC.presence_of_element_located((By.ID, "user-name"))).send_keys(USERNAME)
    driver.find_element(By.ID, "password").send_keys(PASSWORD)
    driver.find_element(By.ID, "login-button").click()
    WebDriverWait(driver, TIMEOUT).until(EC.url_contains("inventory.html"))

def process_checkout(driver):
    driver.find_element(By.CLASS_NAME, "shopping_cart_link").click()
    WebDriverWait(driver, TIMEOUT).until(EC.url_contains("cart.html"))

    items = driver.find_elements(By.CLASS_NAME, "cart_item")
    purchased_items = []
    
    for item in items:
        purchased_items.append({
            "name": item.find_element(By.CLASS_NAME, "inventory_item_name").text,
            "price": item.find_element(By.CLASS_NAME, "inventory_item_price").text,
            "quantity": item.find_element(By.CLASS_NAME, "cart_quantity").text,
            "purchase_time": datetime.now().strftime("%Y-%m-%d %H:%M:%S")
        })
    

    driver.find_element(By.ID, "checkout").click()
    WebDriverWait(driver, TIMEOUT).until(EC.url_contains("checkout-step-one.html"))
   
    driver.find_element(By.ID, "first-name").send_keys("Test")
    driver.find_element(By.ID, "last-name").send_keys("User")
    driver.find_element(By.ID, "postal-code").send_keys("12345")
    driver.find_element(By.ID, "continue").click()
    
    WebDriverWait(driver, TIMEOUT).until(EC.url_contains("checkout-step-two.html"))
    driver.find_element(By.ID, "finish").click()
    WebDriverWait(driver, TIMEOUT).until(EC.url_contains("checkout-complete.html"))

    driver.find_element(By.ID, "back-to-products").click()
    WebDriverWait(driver, TIMEOUT).until(EC.url_contains("inventory.html"))
    
    return purchased_items

def monitor_cart(driver):
    previous_count = 0
    while True:
        try:
            cart_badges = driver.find_elements(By.CLASS_NAME, "shopping_cart_badge")
            current_count = int(cart_badges[0].text) if cart_badges else 0
            
            if current_count > previous_count:
                print(f"\nОбнаружено {current_count} товаров в корзине. Оформляем заказ...")
                purchased_items = process_checkout(driver)

                existing_data = load_existing_data()
                updated_data = existing_data + purchased_items
                save_data(updated_data)
                
                print(f"✅ Заказ оформлен! Сохранено {len(purchased_items)} товаров")
                print(f"Всего записей в истории: {len(updated_data)}")

                previous_count = 0
            else:
                previous_count = current_count
                
            time.sleep(10)
            
        except Exception as e:
            print(f"⚠️ Ошибка мониторинга: {str(e)}")
            time.sleep(5)

def main():
    driver = setup_driver()
    try:
        # Авторизация
        login(driver)
        print("Авторизация успешна. Добавляйте товары в корзину в браузере...")
        
        # Запускаем мониторинг корзины
        monitor_cart(driver)
        
    except Exception as e:
        print(f"Критическая ошибка: {str(e)}")
        driver.save_screenshot("error.png")
        print("Скриншот ошибки сохранен как 'error.png'")
    finally:
        driver.quit()

if __name__ == "__main__":
    main()

import time
import json
from selenium import webdriver
from selenium.webdriver.common.by import By
from selenium.webdriver.support.ui import WebDriverWait
from selenium.webdriver.support import expected_conditions as EC
from selenium.common.exceptions import TimeoutException

USERNAME = "BotUser_" + str(int(time.time()))[-6:]
PASSWORD = "TestPassword123!"
ARTICLE_TITLE = "Test Article " + str(int(time.time()))[-4:]
ARTICLE_TEXT = """== Test Content ==
This is automated test article created with Selenium.
* Point 1
* Point 2"""
OUTPUT_FILE = "wikipedia_data.json"

def setup_driver():
    options = webdriver.ChromeOptions()
    options.add_argument("--disable-blink-features=AutomationControlled")
    driver = webdriver.Chrome(options=options)
    driver.maximize_window()
    return driver

def register(driver):
    print("🚀 Starting registration...")
    driver.get("https://test.wikipedia.org/w/index.php?title=Special:CreateAccount")
    
    WebDriverWait(driver, 10).until(
        EC.presence_of_element_located((By.ID, "wpName2"))
    ).send_keys(USERNAME)
    
    driver.find_element(By.ID, "wpPassword2").send_keys(PASSWORD)
    driver.find_element(By.ID, "wpRetype").send_keys(PASSWORD)
    
    print("⏳ Waiting 3 seconds before submission...")
    time.sleep(3)
    
    driver.find_element(By.ID, "wpCreateaccount").click()
    
    try:
        WebDriverWait(driver, 15).until(
            EC.text_to_be_present_in_element((By.CSS_SELECTOR, ".mw-message-box-success"), "Ваша учётная запись создана"))
        print("✅ Registration successful!")
    except TimeoutException:
        print("⚠ Possible captcha or technical issue")

def create_article(driver):
    print("\n📝 Starting article creation...")
    
    try:
        edit_url = f"https://test.wikipedia.org/w/index.php?title={ARTICLE_TITLE.replace(' ', '_')}&action=edit"
        driver.get(edit_url)
        
        editor = WebDriverWait(driver, 100).until(
            EC.presence_of_element_located((By.ID, "wpTextbox1"))
        )
        editor.clear()
        editor.send_keys(ARTICLE_TEXT)
        
        print("👀 Showing preview...")
        driver.find_element(By.ID, "wpPreview").click()
        
        WebDriverWait(driver, 100).until(
            EC.presence_of_element_located((By.ID, "wpSave"))
        )
        
        print("\n🔔 MANUAL STEP REQUIRED:")
        print("1. Проверьте превью статьи")
        print("2. Нажмите 'Записать страницу'")
        print("3. Дождитесь загрузки страницы статьи")
        
        WebDriverWait(driver, 300).until(
            lambda d: (
                not d.current_url.startswith(edit_url) and  
                not "action=edit" in d.current_url and      
                not "action=submit" in d.current_url        
            )
        )
        
        if "redlink=1" in driver.current_url:
            print("❌ Article was not created!")
            return None
            
        print("✅ Article published successfully!")
        print(driver.current_url)
        return driver.current_url
        
    except TimeoutException:
        print("⚠ Operation timed out")
        return None
    except Exception as e:
        print(f"❌ Error: {str(e)}")
        return None

def save_to_json(data):
    with open(OUTPUT_FILE, 'w', encoding='utf-8') as f:
        json.dump(data, f, ensure_ascii=False, indent=2)
    print(f"💾 Data saved to {OUTPUT_FILE}")

def main():
    driver = setup_driver()
    try:
        register(driver)
        article_url = create_article(driver)
        
        result_data = {
            "username": USERNAME,
            "password": PASSWORD,
            "article_title": ARTICLE_TITLE,
            "article_url": article_url,
            "timestamp": time.strftime("%Y-%m-%d %H:%M:%S")
        }
        
        save_to_json(result_data)
        print("\n🔗 Result:", json.dumps(result_data, indent=2, ensure_ascii=False))
              
    except Exception as e:
        print(f"❌ Error: {str(e)}")
    finally:
        driver.quit()

if __name__ == "__main__":
    main()
